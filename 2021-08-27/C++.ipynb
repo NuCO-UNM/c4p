{
 "cells": [
  {
   "cell_type": "markdown",
   "id": "5eb18972",
   "metadata": {},
   "source": [
    "<h1 align=\"center\"> Computation for Physicists </h1>\n",
    "<h2 align=\"center\"> <em> Extend Python with C++</em> </h2>\n",
    "<h2 align=\"center\" > <a href=\"mailto:duan@unm.edu\">Dr. Duan</a> (UNM) </h2>"
   ]
  },
  {
   "cell_type": "markdown",
   "id": "df99afb1",
   "metadata": {
    "slideshow": {
     "slide_type": "slide"
    }
   },
   "source": [
    "# Python vs C++\n",
    "\n",
    "- Python is an \"interpreted\" language; C++ programs need to be precompiled.\n",
    "    - Both are portable, but Python is cross-platform executable.\n",
    "    - C++ codes run much faster than Python codes."
   ]
  },
  {
   "cell_type": "markdown",
   "id": "a47c7f72",
   "metadata": {
    "slideshow": {
     "slide_type": "slide"
    }
   },
   "source": [
    "- Python variables are labels; C++ variables \"are\" memory locations."
   ]
  },
  {
   "cell_type": "markdown",
   "id": "aa2bb2dc",
   "metadata": {
    "slideshow": {
     "slide_type": "fragment"
    }
   },
   "source": [
    "```c++\n",
    "// C++\n",
    "int a = 10; // declare the type of variable   \n",
    "a = 9; // only the same data can be assigned\n",
    "```"
   ]
  },
  {
   "cell_type": "markdown",
   "id": "5119cf2d",
   "metadata": {
    "slideshow": {
     "slide_type": "fragment"
    }
   },
   "source": [
    "```python\n",
    "# Python\n",
    "a = 10 # no need to declare variable\n",
    "a = 'b' # can be \"assigned\" with value of a different type\n",
    "```"
   ]
  },
  {
   "cell_type": "markdown",
   "id": "3ff0c1d5",
   "metadata": {
    "slideshow": {
     "slide_type": "slide"
    }
   },
   "source": [
    "- Python uses dynamic typing; C++ ueses static typing."
   ]
  },
  {
   "cell_type": "code",
   "execution_count": 1,
   "id": "257e3c3c",
   "metadata": {
    "slideshow": {
     "slide_type": "fragment"
    }
   },
   "outputs": [
    {
     "data": {
      "text/plain": [
       "(4, 4.0, '22', [1, 1, 1, 1], array([2, 2]))"
      ]
     },
     "execution_count": 1,
     "metadata": {},
     "output_type": "execute_result"
    }
   ],
   "source": [
    "# Python\n",
    "import numpy as np # import NumPy package\n",
    "def times2(x): # type of x is unknown\n",
    "    return x * 2\n",
    "\n",
    "times2(2), times2(2.0), times2('2'), times2([1, 1]), times2(np.array([1, 1]))\n"
   ]
  },
  {
   "cell_type": "markdown",
   "id": "3ff13a48",
   "metadata": {
    "slideshow": {
     "slide_type": "subslide"
    }
   },
   "source": [
    "```c++\n",
    "// C++, polymorphism\n",
    "int times2(int x) { return x * 2; }\n",
    "double times2(double x) { return x * 2;}\n",
    "...\n",
    "```"
   ]
  },
  {
   "cell_type": "markdown",
   "id": "84b76735",
   "metadata": {
    "slideshow": {
     "slide_type": "fragment"
    }
   },
   "source": [
    "```c++\n",
    "// C++, template\n",
    "template <class T> times2(T x) { return x*2; }\n",
    "\n",
    "int a = times2<int>(2);\n",
    "```"
   ]
  },
  {
   "cell_type": "markdown",
   "id": "77e8275d",
   "metadata": {
    "slideshow": {
     "slide_type": "slide"
    }
   },
   "source": [
    "- Dynamic typing: If it quacks, it's a duck!"
   ]
  },
  {
   "cell_type": "code",
   "execution_count": 2,
   "id": "7a735fee",
   "metadata": {
    "slideshow": {
     "slide_type": "fragment"
    }
   },
   "outputs": [
    {
     "data": {
      "text/plain": [
       "(2, 11, [1.0, 1.0])"
      ]
     },
     "execution_count": 2,
     "metadata": {},
     "output_type": "execute_result"
    }
   ],
   "source": [
    "class vec: # 3D vector class\n",
    "    def __init__(self, x, y, z): # construct the object\n",
    "        self.x = x; self.y = y; self.z = z\n",
    "\n",
    "    def __repr__(self): # format the output\n",
    "        return f'({self.x}, {self.y}, {self.z})'\n",
    "\n",
    "    def __mul__(self, c): # overload operator *\n",
    "        return vec(self.x*c, self.y*c, self.z*c)\n",
    "\n",
    "a = vec(1, '1', [1.0])\n",
    "times2(a)"
   ]
  },
  {
   "cell_type": "markdown",
   "id": "03d68479",
   "metadata": {
    "slideshow": {
     "slide_type": "slide"
    }
   },
   "source": [
    "# Combine Python and C++\n",
    "\n",
    "- Python codes are easy to write and debug; C++ codes run fast.\n",
    "\n",
    "- A possible way to combine the advantages of both: Write the interface and the prototype in Python and the production core in C++ ==> [pybind11](https://pybind11.readthedocs.io)"
   ]
  },
  {
   "cell_type": "markdown",
   "id": "05a57854",
   "metadata": {
    "slideshow": {
     "slide_type": "slide"
    }
   },
   "source": [
    "## Homework 4 from last semester:\n",
    "\n",
    "- The standard deviation of a dataset $\\{x_1, x_2, \\cdots, x_n\\}$ is defined as\n",
    "$$\\sigma = \\sqrt{\\frac{1}{n}\\sum_{i=1}^n (x_i - \\bar{x})^2},$$\n",
    "where $\\bar{x}$ is the average value of $x_i$. It is straightforward to show that an equivalent definition of the standard deviation is\n",
    "$$\\sigma = \\sqrt{\\left(\\frac{1}{n}\\sum_{i=1}^n x_i^2\\right)- \\bar{x}^2}.$$\n",
    "Which of the two algorithms is potentially faster, and which is more accurate?"
   ]
  },
  {
   "cell_type": "code",
   "execution_count": 3,
   "id": "c419ce78",
   "metadata": {
    "slideshow": {
     "slide_type": "subslide"
    }
   },
   "outputs": [
    {
     "data": {
      "text/plain": [
       "((10.488727139931761, 0.2908702700944497),\n",
       " (10.488727139931768, 0.29087027009444993),\n",
       " (10.488727139931768, 0.2908702700942741),\n",
       " (10.488727139931761, 0.2908702700944497),\n",
       " (10.488727139931761, 0.2908702700944939))"
      ]
     },
     "execution_count": 3,
     "metadata": {},
     "output_type": "execute_result"
    }
   ],
   "source": [
    "from mystat import mean_std, mean_std2, mean_std_np, mean_std2_np\n",
    "import numpy as np\n",
    "from numpy.random import random\n",
    "\n",
    "n = 10**3 # number of values\n",
    "data = 10+random(n) # dataset\n",
    "(np.mean(data), np.std(data)), mean_std(data), mean_std2(data), \\\n",
    "mean_std_np(data), mean_std2_np(data)"
   ]
  },
  {
   "cell_type": "markdown",
   "id": "4f644972",
   "metadata": {
    "slideshow": {
     "slide_type": "slide"
    }
   },
   "source": [
    "## Benchmarks"
   ]
  },
  {
   "cell_type": "code",
   "execution_count": 4,
   "id": "f21433c7",
   "metadata": {
    "slideshow": {
     "slide_type": "-"
    }
   },
   "outputs": [
    {
     "name": "stdout",
     "output_type": "stream",
     "text": [
      "888 µs ± 286 ns per loop (mean ± std. dev. of 7 runs, 1000 loops each)\n"
     ]
    }
   ],
   "source": [
    "%timeit mean_std(data)"
   ]
  },
  {
   "cell_type": "code",
   "execution_count": 5,
   "id": "6aa10fc4",
   "metadata": {
    "slideshow": {
     "slide_type": "-"
    }
   },
   "outputs": [
    {
     "name": "stdout",
     "output_type": "stream",
     "text": [
      "744 µs ± 3.62 µs per loop (mean ± std. dev. of 7 runs, 1000 loops each)\n"
     ]
    }
   ],
   "source": [
    "%timeit mean_std2(data)"
   ]
  },
  {
   "cell_type": "code",
   "execution_count": 6,
   "id": "405c70c2",
   "metadata": {
    "slideshow": {
     "slide_type": "-"
    }
   },
   "outputs": [
    {
     "name": "stdout",
     "output_type": "stream",
     "text": [
      "37.7 µs ± 412 ns per loop (mean ± std. dev. of 7 runs, 10000 loops each)\n"
     ]
    }
   ],
   "source": [
    "%timeit mean_std_np(data)"
   ]
  },
  {
   "cell_type": "code",
   "execution_count": 7,
   "id": "d8eb468e",
   "metadata": {},
   "outputs": [
    {
     "name": "stdout",
     "output_type": "stream",
     "text": [
      "30.7 µs ± 123 ns per loop (mean ± std. dev. of 7 runs, 10000 loops each)\n"
     ]
    }
   ],
   "source": [
    "%timeit mean_std2_np(data)"
   ]
  },
  {
   "cell_type": "code",
   "execution_count": 8,
   "id": "1061c857",
   "metadata": {
    "slideshow": {
     "slide_type": "fragment"
    }
   },
   "outputs": [
    {
     "name": "stdout",
     "output_type": "stream",
     "text": [
      "18.5 µs ± 67.9 ns per loop (mean ± std. dev. of 7 runs, 10000 loops each)\n"
     ]
    }
   ],
   "source": [
    "%timeit np.mean(data)"
   ]
  },
  {
   "cell_type": "code",
   "execution_count": 9,
   "id": "0977b4c8",
   "metadata": {},
   "outputs": [
    {
     "name": "stdout",
     "output_type": "stream",
     "text": [
      "60 µs ± 76.6 ns per loop (mean ± std. dev. of 7 runs, 10000 loops each)\n"
     ]
    }
   ],
   "source": [
    "%timeit np.std(data)"
   ]
  },
  {
   "cell_type": "markdown",
   "id": "8a50b2e4",
   "metadata": {
    "slideshow": {
     "slide_type": "slide"
    }
   },
   "source": [
    "## C++ Extension"
   ]
  },
  {
   "cell_type": "code",
   "execution_count": 10,
   "id": "d34a6438",
   "metadata": {
    "scrolled": true,
    "slideshow": {
     "slide_type": "fragment"
    }
   },
   "outputs": [
    {
     "name": "stdout",
     "output_type": "stream",
     "text": [
      "Help on built-in function mean_std in module mystat_cpp:\n",
      "\n",
      "mean_std(...) method of builtins.PyCapsule instance\n",
      "    mean_std(arg0: numpy.ndarray[numpy.float64]) -> Tuple[float, float]\n",
      "\n"
     ]
    }
   ],
   "source": [
    "import mystat_cpp\n",
    "\n",
    "help(mystat_cpp.mean_std)"
   ]
  },
  {
   "cell_type": "code",
   "execution_count": 11,
   "id": "605f539c",
   "metadata": {
    "slideshow": {
     "slide_type": "fragment"
    }
   },
   "outputs": [
    {
     "data": {
      "text/plain": [
       "((10.488727139931768, 0.29087027009444993),\n",
       " (10.488727139931768, 0.2908702700942741))"
      ]
     },
     "execution_count": 11,
     "metadata": {},
     "output_type": "execute_result"
    }
   ],
   "source": [
    "mystat_cpp.mean_std(data), mystat_cpp.mean_std2(data)"
   ]
  },
  {
   "cell_type": "code",
   "execution_count": 12,
   "id": "070b08d1",
   "metadata": {
    "slideshow": {
     "slide_type": "fragment"
    }
   },
   "outputs": [
    {
     "name": "stdout",
     "output_type": "stream",
     "text": [
      "3.59 µs ± 11.7 ns per loop (mean ± std. dev. of 7 runs, 100000 loops each)\n"
     ]
    }
   ],
   "source": [
    "%timeit mystat_cpp.mean_std(data)"
   ]
  },
  {
   "cell_type": "code",
   "execution_count": 13,
   "id": "cd7235b7",
   "metadata": {},
   "outputs": [
    {
     "name": "stdout",
     "output_type": "stream",
     "text": [
      "2.41 µs ± 6.96 ns per loop (mean ± std. dev. of 7 runs, 100000 loops each)\n"
     ]
    }
   ],
   "source": [
    "%timeit mystat_cpp.mean_std2(data)"
   ]
  },
  {
   "cell_type": "markdown",
   "id": "2d411899",
   "metadata": {
    "slideshow": {
     "slide_type": "slide"
    }
   },
   "source": [
    "## Parallelize with SIMD\n",
    "\n",
    "- Single instruction, multiple data. E.g. $C[i] = A[i] + B[i]$, where $A$, $B$, and $C$ are 1D arrays.   \n",
    "\n",
    "![](https://software.intel.com/content/dam/develop/external/us/en/images/37208-183287.gif)\n",
    "\n",
    "Figure Credit: https://software.intel.com/content/www/us/en/develop/articles/introduction-to-intel-advanced-vector-extensions.html\n"
   ]
  },
  {
   "cell_type": "code",
   "execution_count": 14,
   "id": "46f4b4b4",
   "metadata": {
    "slideshow": {
     "slide_type": "subslide"
    }
   },
   "outputs": [
    {
     "data": {
      "text/plain": [
       "((10.488727139931765, 0.29087027009444977),\n",
       " (10.488727139931765, 0.2908702700944695))"
      ]
     },
     "execution_count": 14,
     "metadata": {},
     "output_type": "execute_result"
    }
   ],
   "source": [
    "import mystat_simd\n",
    "\n",
    "mystat_simd.mean_std(data), mystat_simd.mean_std2(data)"
   ]
  },
  {
   "cell_type": "code",
   "execution_count": 15,
   "id": "45f84cf0",
   "metadata": {},
   "outputs": [
    {
     "name": "stdout",
     "output_type": "stream",
     "text": [
      "2.37 µs ± 6.57 ns per loop (mean ± std. dev. of 7 runs, 100000 loops each)\n"
     ]
    }
   ],
   "source": [
    "%timeit mystat_simd.mean_std(data)"
   ]
  },
  {
   "cell_type": "code",
   "execution_count": 16,
   "id": "cbddf909",
   "metadata": {},
   "outputs": [
    {
     "name": "stdout",
     "output_type": "stream",
     "text": [
      "1.8 µs ± 0.981 ns per loop (mean ± std. dev. of 7 runs, 1000000 loops each)\n"
     ]
    }
   ],
   "source": [
    "%timeit mystat_simd.mean_std2(data)"
   ]
  },
  {
   "cell_type": "markdown",
   "id": "a7aee0f7",
   "metadata": {
    "slideshow": {
     "slide_type": "slide"
    }
   },
   "source": [
    "## Parallelize with OpenMP\n",
    "\n",
    "- Utilize multiple CPU cores with threads.\n",
    "\n",
    "![](https://hpc.llnl.gov/tuts/openMP/images/fork_join2.gif)\n",
    "Figure Credit: https://hpc.llnl.gov/tuts/openMP/"
   ]
  },
  {
   "cell_type": "code",
   "execution_count": 17,
   "id": "0c17f612",
   "metadata": {
    "slideshow": {
     "slide_type": "subslide"
    }
   },
   "outputs": [
    {
     "data": {
      "text/plain": [
       "((10.488727139931761, 0.2908702700944497),\n",
       " (10.488727139931761, 0.2908702700945183))"
      ]
     },
     "execution_count": 17,
     "metadata": {},
     "output_type": "execute_result"
    }
   ],
   "source": [
    "import mystat_omp\n",
    "\n",
    "mystat_omp.mean_std(data), mystat_omp.mean_std2(data)"
   ]
  },
  {
   "cell_type": "code",
   "execution_count": 18,
   "id": "e87b0a47",
   "metadata": {},
   "outputs": [
    {
     "name": "stdout",
     "output_type": "stream",
     "text": [
      "11.1 µs ± 11.9 ns per loop (mean ± std. dev. of 7 runs, 100000 loops each)\n"
     ]
    }
   ],
   "source": [
    "%timeit mystat_omp.mean_std(data)"
   ]
  },
  {
   "cell_type": "code",
   "execution_count": 19,
   "id": "7bcb7860",
   "metadata": {},
   "outputs": [
    {
     "name": "stdout",
     "output_type": "stream",
     "text": [
      "8.74 µs ± 14.3 ns per loop (mean ± std. dev. of 7 runs, 100000 loops each)\n"
     ]
    }
   ],
   "source": [
    "%timeit mystat_omp.mean_std2(data)"
   ]
  },
  {
   "cell_type": "markdown",
   "id": "8f7d803f",
   "metadata": {
    "slideshow": {
     "slide_type": "slide"
    }
   },
   "source": [
    "## Another Test"
   ]
  },
  {
   "cell_type": "code",
   "execution_count": 20,
   "id": "2a2ae1b2",
   "metadata": {},
   "outputs": [],
   "source": [
    "n = 10**7 # data size\n",
    "data = 10+random(n) # dataset"
   ]
  },
  {
   "cell_type": "code",
   "execution_count": 21,
   "id": "6a739a63",
   "metadata": {},
   "outputs": [
    {
     "name": "stdout",
     "output_type": "stream",
     "text": [
      "46.9 ms ± 22.3 µs per loop (mean ± std. dev. of 7 runs, 10 loops each)\n"
     ]
    }
   ],
   "source": [
    "%timeit mean_std_np(data)"
   ]
  },
  {
   "cell_type": "code",
   "execution_count": 22,
   "id": "5d007c92",
   "metadata": {},
   "outputs": [
    {
     "name": "stdout",
     "output_type": "stream",
     "text": [
      "25.5 ms ± 58.3 µs per loop (mean ± std. dev. of 7 runs, 10 loops each)\n"
     ]
    }
   ],
   "source": [
    "%timeit mystat_cpp.mean_std(data)"
   ]
  },
  {
   "cell_type": "code",
   "execution_count": 23,
   "id": "9ba680e3",
   "metadata": {},
   "outputs": [
    {
     "name": "stdout",
     "output_type": "stream",
     "text": [
      "15 ms ± 5.26 µs per loop (mean ± std. dev. of 7 runs, 100 loops each)\n"
     ]
    }
   ],
   "source": [
    "%timeit mystat_simd.mean_std(data)"
   ]
  },
  {
   "cell_type": "code",
   "execution_count": 24,
   "id": "8168f0ff",
   "metadata": {},
   "outputs": [
    {
     "name": "stdout",
     "output_type": "stream",
     "text": [
      "4.4 ms ± 5.97 µs per loop (mean ± std. dev. of 7 runs, 100 loops each)\n"
     ]
    }
   ],
   "source": [
    "%timeit mystat_omp.mean_std(data)"
   ]
  }
 ],
 "metadata": {
  "celltoolbar": "Slideshow",
  "interpreter": {
   "hash": "29fd7682c9e8ef22bcd7600d080f1f5aeaee3c6ad1c8ffd8b79d3b0dce2a6745"
  },
  "kernelspec": {
   "display_name": "Python 3 (ipykernel)",
   "language": "python",
   "name": "python3"
  },
  "language_info": {
   "codemirror_mode": {
    "name": "ipython",
    "version": 3
   },
   "file_extension": ".py",
   "mimetype": "text/x-python",
   "name": "python",
   "nbconvert_exporter": "python",
   "pygments_lexer": "ipython3",
   "version": "3.9.6"
  }
 },
 "nbformat": 4,
 "nbformat_minor": 5
}
